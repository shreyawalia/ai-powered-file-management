{
  "nbformat": 4,
  "nbformat_minor": 0,
  "metadata": {
    "colab": {
      "name": "train&val_sets.ipynb",
      "provenance": [],
      "mount_file_id": "1VsP_PS39Z38oIcuP7de-kbMJlIHka1Aj",
      "authorship_tag": "ABX9TyMOx1RKzsWA1XfeiB/n+c0X",
      "include_colab_link": true
    },
    "kernelspec": {
      "name": "python3",
      "display_name": "Python 3"
    }
  },
  "cells": [
    {
      "cell_type": "markdown",
      "metadata": {
        "id": "view-in-github",
        "colab_type": "text"
      },
      "source": [
        "<a href=\"https://colab.research.google.com/github/shreyawalia/ai-powered-file-management/blob/main/train%26val_sets.ipynb\" target=\"_parent\"><img src=\"https://colab.research.google.com/assets/colab-badge.svg\" alt=\"Open In Colab\"/></a>"
      ]
    },
    {
      "cell_type": "code",
      "metadata": {
        "id": "PXL0nLjtj6rk",
        "colab": {
          "base_uri": "https://localhost:8080/"
        },
        "outputId": "268326dc-ef17-4876-bee5-a2de1ed5c919"
      },
      "source": [
        "\n",
        "!pip install iterative-stratification"
      ],
      "execution_count": null,
      "outputs": [
        {
          "output_type": "stream",
          "text": [
            "Requirement already satisfied: iterative-stratification in /usr/local/lib/python3.6/dist-packages (0.1.6)\n",
            "Requirement already satisfied: numpy in /usr/local/lib/python3.6/dist-packages (from iterative-stratification) (1.18.5)\n",
            "Requirement already satisfied: scipy in /usr/local/lib/python3.6/dist-packages (from iterative-stratification) (1.4.1)\n",
            "Requirement already satisfied: scikit-learn in /usr/local/lib/python3.6/dist-packages (from iterative-stratification) (0.22.2.post1)\n",
            "Requirement already satisfied: joblib>=0.11 in /usr/local/lib/python3.6/dist-packages (from scikit-learn->iterative-stratification) (0.17.0)\n"
          ],
          "name": "stdout"
        }
      ]
    },
    {
      "cell_type": "code",
      "metadata": {
        "id": "1XWoReAOmUN-"
      },
      "source": [
        "import numpy as np\n",
        "import pandas as pd \n",
        "from iterstrat.ml_stratifiers import MultilabelStratifiedKFold, MultilabelStratifiedShuffleSplit\n",
        "from sklearn.model_selection import ShuffleSplit, train_test_split\n",
        "from sklearn.preprocessing import MultiLabelBinarizer\n",
        "from pathlib import Path\n",
        "import os"
      ],
      "execution_count": null,
      "outputs": []
    },
    {
      "cell_type": "code",
      "metadata": {
        "id": "sSRmztQMmdUM",
        "colab": {
          "base_uri": "https://localhost:8080/"
        },
        "outputId": "88607266-a0af-492d-af94-1d7e34d8d127"
      },
      "source": [
        "from google.colab import drive\n",
        "drive.mount('/content/gdrive', force_remount=True)\n",
        "base_dir = \"gdrive/My Drive/sdg/dataset/\"\n",
        "labelled_dataset = base_dir + \"sdg_tag.csv\"\n",
        "output_dir = \"gdrive/My Drive/sdg/dataset/cross_validation/\""
      ],
      "execution_count": null,
      "outputs": [
        {
          "output_type": "stream",
          "text": [
            "Mounted at /content/gdrive\n"
          ],
          "name": "stdout"
        }
      ]
    },
    {
      "cell_type": "code",
      "metadata": {
        "id": "pRdU_tEHnz_Y",
        "colab": {
          "base_uri": "https://localhost:8080/"
        },
        "outputId": "eef9864c-77cb-4135-8e6c-612834e88662"
      },
      "source": [
        "data_df = pd.read_csv(labelled_dataset)\n",
        "#mlb = MultiLabelBinarizer(classes = (\"goal_1\", \"goal_2\", \"goal_3\", \"goal_4\", \"goal_5\", \"goal_6\", \"goal_7\", \"goal_8\", \"goal_9\", \"goal_10\", \"goal_11\", \"goal_12\", \"goal_13\", \"goal_14\", \"goal_15\", \"goal_16\", \"goal_17\"))\n",
        "\n",
        "mask = data_df['Tag'].notnull()\n",
        "\n",
        "data_df.Tag = data_df.loc[mask, 'Tag'].dropna().str.strip('[]').str.split(',')\n",
        "#data_df.Tag = data_df.Tag.str.split(',').apply(lambda x: [int(i) for i in x])\n",
        "\n",
        "\n",
        "mskf = MultilabelStratifiedKFold(n_splits=5, random_state=0)\n",
        "#mlb = MultiLabelBinarizer()\n",
        "mlb = MultiLabelBinarizer(classes = (\"goal_1\", \"goal_2\", \"goal_3\", \"goal_4\", \"goal_5\", \"goal_6\", \"goal_7\", \"goal_8\", \"goal_9\", \"goal_10\", \"goal_11\", \"goal_12\", \"goal_13\", \"goal_14\", \"goal_15\", \"goal_16\", \"goal_17\"))\n",
        "\n",
        "count = 0"
      ],
      "execution_count": null,
      "outputs": [
        {
          "output_type": "stream",
          "text": [
            "/usr/local/lib/python3.6/dist-packages/sklearn/model_selection/_split.py:296: FutureWarning: Setting a random_state has no effect since shuffle is False. This will raise an error in 0.24. You should leave random_state to its default (None), or set shuffle=True.\n",
            "  FutureWarning\n"
          ],
          "name": "stderr"
        }
      ]
    },
    {
      "cell_type": "code",
      "metadata": {
        "id": "SNs7wglEw53T"
      },
      "source": [
        "x = data_df[['description']].values # text\n",
        "y = mlb.fit_transform(data_df.Tag) # labels\n",
        "\n",
        "for train_index, test_index in mskf.split(x, y):\n",
        "    count += 1\n",
        "    print(f\"Fold no. {count}\")\n",
        "    fold_dir = Path(f\"{output_dir}fold_{count}/\")\n",
        "    fold_dir.mkdir(exist_ok=True)\n",
        "    np.save(fold_dir/\"train\", train_index)\n",
        "    np.save(fold_dir/\"test\", test_index)"
      ],
      "execution_count": null,
      "outputs": []
    },
    {
      "cell_type": "code",
      "metadata": {
        "id": "0thC08zGoAHY",
        "colab": {
          "base_uri": "https://localhost:8080/",
          "height": 451
        },
        "outputId": "26683986-7685-494b-9261-68a31fed9d87"
      },
      "source": [
        "data_df.head()"
      ],
      "execution_count": null,
      "outputs": [
        {
          "output_type": "execute_result",
          "data": {
            "text/html": [
              "<div>\n",
              "<style scoped>\n",
              "    .dataframe tbody tr th:only-of-type {\n",
              "        vertical-align: middle;\n",
              "    }\n",
              "\n",
              "    .dataframe tbody tr th {\n",
              "        vertical-align: top;\n",
              "    }\n",
              "\n",
              "    .dataframe thead th {\n",
              "        text-align: right;\n",
              "    }\n",
              "</style>\n",
              "<table border=\"1\" class=\"dataframe\">\n",
              "  <thead>\n",
              "    <tr style=\"text-align: right;\">\n",
              "      <th></th>\n",
              "      <th>Unnamed: 0</th>\n",
              "      <th>description</th>\n",
              "      <th>goal_1</th>\n",
              "      <th>goal_2</th>\n",
              "      <th>goal_3</th>\n",
              "      <th>goal_4</th>\n",
              "      <th>goal_5</th>\n",
              "      <th>goal_6</th>\n",
              "      <th>goal_7</th>\n",
              "      <th>goal_8</th>\n",
              "      <th>goal_9</th>\n",
              "      <th>goal_10</th>\n",
              "      <th>goal_11</th>\n",
              "      <th>goal_12</th>\n",
              "      <th>goal_13</th>\n",
              "      <th>goal_14</th>\n",
              "      <th>goal_15</th>\n",
              "      <th>goal_16</th>\n",
              "      <th>goal_17</th>\n",
              "      <th>Tag</th>\n",
              "    </tr>\n",
              "  </thead>\n",
              "  <tbody>\n",
              "    <tr>\n",
              "      <th>0</th>\n",
              "      <td>0</td>\n",
              "      <td>Description\\nBackground:\\nIn order to achieve ...</td>\n",
              "      <td>1</td>\n",
              "      <td>1</td>\n",
              "      <td>1</td>\n",
              "      <td>1</td>\n",
              "      <td>1</td>\n",
              "      <td>1</td>\n",
              "      <td>1</td>\n",
              "      <td>1</td>\n",
              "      <td>1</td>\n",
              "      <td>1</td>\n",
              "      <td>1</td>\n",
              "      <td>1</td>\n",
              "      <td>1</td>\n",
              "      <td>1</td>\n",
              "      <td>1</td>\n",
              "      <td>1</td>\n",
              "      <td>1</td>\n",
              "      <td>[goal_1, goal_2, goal_3, goal_4, goal_5, goal_...</td>\n",
              "    </tr>\n",
              "    <tr>\n",
              "      <th>1</th>\n",
              "      <td>1</td>\n",
              "      <td>Description/achievement of initiative\\nDesa Wi...</td>\n",
              "      <td>0</td>\n",
              "      <td>0</td>\n",
              "      <td>0</td>\n",
              "      <td>0</td>\n",
              "      <td>0</td>\n",
              "      <td>0</td>\n",
              "      <td>0</td>\n",
              "      <td>1</td>\n",
              "      <td>0</td>\n",
              "      <td>0</td>\n",
              "      <td>0</td>\n",
              "      <td>0</td>\n",
              "      <td>0</td>\n",
              "      <td>0</td>\n",
              "      <td>1</td>\n",
              "      <td>0</td>\n",
              "      <td>0</td>\n",
              "      <td>[goal_8, goal_15]</td>\n",
              "    </tr>\n",
              "    <tr>\n",
              "      <th>2</th>\n",
              "      <td>2</td>\n",
              "      <td>Description\\nThe overall objective of this pro...</td>\n",
              "      <td>0</td>\n",
              "      <td>0</td>\n",
              "      <td>0</td>\n",
              "      <td>0</td>\n",
              "      <td>0</td>\n",
              "      <td>0</td>\n",
              "      <td>0</td>\n",
              "      <td>0</td>\n",
              "      <td>0</td>\n",
              "      <td>0</td>\n",
              "      <td>0</td>\n",
              "      <td>0</td>\n",
              "      <td>1</td>\n",
              "      <td>1</td>\n",
              "      <td>0</td>\n",
              "      <td>0</td>\n",
              "      <td>0</td>\n",
              "      <td>[goal_13, goal_14]</td>\n",
              "    </tr>\n",
              "    <tr>\n",
              "      <th>3</th>\n",
              "      <td>3</td>\n",
              "      <td>Description\\nThe Global Goals Jam is a two day...</td>\n",
              "      <td>0</td>\n",
              "      <td>0</td>\n",
              "      <td>1</td>\n",
              "      <td>1</td>\n",
              "      <td>0</td>\n",
              "      <td>0</td>\n",
              "      <td>0</td>\n",
              "      <td>0</td>\n",
              "      <td>0</td>\n",
              "      <td>1</td>\n",
              "      <td>1</td>\n",
              "      <td>0</td>\n",
              "      <td>1</td>\n",
              "      <td>1</td>\n",
              "      <td>1</td>\n",
              "      <td>0</td>\n",
              "      <td>1</td>\n",
              "      <td>[goal_3, goal_4, goal_10, goal_11, goal_13, go...</td>\n",
              "    </tr>\n",
              "    <tr>\n",
              "      <th>4</th>\n",
              "      <td>4</td>\n",
              "      <td>Description/achievement of initiative\\nNewport...</td>\n",
              "      <td>0</td>\n",
              "      <td>0</td>\n",
              "      <td>0</td>\n",
              "      <td>1</td>\n",
              "      <td>0</td>\n",
              "      <td>0</td>\n",
              "      <td>0</td>\n",
              "      <td>0</td>\n",
              "      <td>0</td>\n",
              "      <td>0</td>\n",
              "      <td>0</td>\n",
              "      <td>0</td>\n",
              "      <td>0</td>\n",
              "      <td>0</td>\n",
              "      <td>0</td>\n",
              "      <td>0</td>\n",
              "      <td>0</td>\n",
              "      <td>[goal_4]</td>\n",
              "    </tr>\n",
              "  </tbody>\n",
              "</table>\n",
              "</div>"
            ],
            "text/plain": [
              "   Unnamed: 0  ...                                                Tag\n",
              "0           0  ...  [goal_1, goal_2, goal_3, goal_4, goal_5, goal_...\n",
              "1           1  ...                                  [goal_8, goal_15]\n",
              "2           2  ...                                 [goal_13, goal_14]\n",
              "3           3  ...  [goal_3, goal_4, goal_10, goal_11, goal_13, go...\n",
              "4           4  ...                                           [goal_4]\n",
              "\n",
              "[5 rows x 20 columns]"
            ]
          },
          "metadata": {
            "tags": []
          },
          "execution_count": 38
        }
      ]
    },
    {
      "cell_type": "code",
      "metadata": {
        "id": "MY59GiMhsuyr",
        "colab": {
          "base_uri": "https://localhost:8080/"
        },
        "outputId": "703b3041-7c42-42c5-dd0e-df70c4548f99"
      },
      "source": [
        "data_df.info"
      ],
      "execution_count": null,
      "outputs": [
        {
          "output_type": "execute_result",
          "data": {
            "text/plain": [
              "<bound method DataFrame.info of       Unnamed: 0  ...                                        Tag\n",
              "0              0  ...  1,2,3,4,5,6,7,8,9,10,11,12,13,14,15,16,17\n",
              "1              1  ...                                       8,15\n",
              "2              2  ...                                      13,14\n",
              "3              3  ...                      3,4,10,11,13,14,15,17\n",
              "4              4  ...                                          4\n",
              "...          ...  ...                                        ...\n",
              "1929        1929  ...                                  4,8,12,14\n",
              "1930        1930  ...                 4,6,8,11,12,13,14,15,16,17\n",
              "1931        1931  ...                                   1,5,8,16\n",
              "1932        1932  ...                                          3\n",
              "1933        1933  ...                                         16\n",
              "\n",
              "[1934 rows x 20 columns]>"
            ]
          },
          "metadata": {
            "tags": []
          },
          "execution_count": 14
        }
      ]
    },
    {
      "cell_type": "code",
      "metadata": {
        "id": "MFX7egq1s37c"
      },
      "source": [
        "data_df['Tag'].to_numeric()"
      ],
      "execution_count": null,
      "outputs": []
    },
    {
      "cell_type": "code",
      "metadata": {
        "id": "BPDKR1CNs9C1"
      },
      "source": [
        ""
      ],
      "execution_count": null,
      "outputs": []
    }
  ]
}