{
  "nbformat": 4,
  "nbformat_minor": 0,
  "metadata": {
    "colab": {
      "name": "ml_sdg.ipynb",
      "provenance": [],
      "mount_file_id": "1J3VCyg1o5P03q7RvgKcrx2YEhukmLuzG",
      "authorship_tag": "ABX9TyPQYIXpepbfm12ZMehTfJom",
      "include_colab_link": true
    },
    "kernelspec": {
      "name": "python3",
      "display_name": "Python 3"
    },
    "accelerator": "TPU"
  },
  "cells": [
    {
      "cell_type": "markdown",
      "metadata": {
        "id": "view-in-github",
        "colab_type": "text"
      },
      "source": [
        "<a href=\"https://colab.research.google.com/github/shreyawalia/ai-powered-file-management/blob/main/Model%20Creation/ml_sdg.ipynb\" target=\"_parent\"><img src=\"https://colab.research.google.com/assets/colab-badge.svg\" alt=\"Open In Colab\"/></a>"
      ]
    },
    {
      "cell_type": "code",
      "metadata": {
        "id": "Fp5cCz0xEr-x",
        "colab": {
          "base_uri": "https://localhost:8080/"
        },
        "outputId": "54afedf2-5192-4461-e304-14a750906335"
      },
      "source": [
        "\n",
        "import os\n",
        "import pandas as pd\n",
        "import numpy as np\n",
        "import nltk\n",
        "from nltk.corpus import stopwords\n",
        "from sklearn.pipeline import Pipeline\n",
        "from sklearn.feature_extraction.text import TfidfVectorizer\n",
        "from sklearn.multiclass import OneVsRestClassifier\n",
        "from sklearn.naive_bayes import MultinomialNB\n",
        "from sklearn.tree import DecisionTreeClassifier\n",
        "from sklearn.svm import LinearSVC\n",
        "from sklearn.neighbors import KNeighborsClassifier\n",
        "from sklearn.linear_model import LogisticRegression\n",
        "from sklearn.model_selection import GridSearchCV\n",
        "from sklearn.preprocessing import MultiLabelBinarizer\n",
        "from sklearn import metrics\n",
        "\n",
        "nltk.download('stopwords')"
      ],
      "execution_count": null,
      "outputs": [
        {
          "output_type": "stream",
          "text": [
            "[nltk_data] Downloading package stopwords to /root/nltk_data...\n",
            "[nltk_data]   Unzipping corpora/stopwords.zip.\n"
          ],
          "name": "stdout"
        },
        {
          "output_type": "execute_result",
          "data": {
            "text/plain": [
              "True"
            ]
          },
          "metadata": {
            "tags": []
          },
          "execution_count": 1
        }
      ]
    },
    {
      "cell_type": "code",
      "metadata": {
        "id": "_jsXSA7VE1RZ"
      },
      "source": [
        "base_dir = \"/content/drive/My Drive/sdg/\"\n",
        "labelled_dataset = base_dir + \"dataset/sdg_tag.csv\"\n",
        "CROSS_FOLDS = f\"{base_dir}dataset/cross_validation/\""
      ],
      "execution_count": null,
      "outputs": []
    },
    {
      "cell_type": "code",
      "metadata": {
        "id": "Dtlfyk2DG7wO"
      },
      "source": [
        "\n",
        "labelled = pd.read_csv(labelled_dataset)\n",
        "#labelled.labels = labelled.labels.str.split('|').apply(lambda x: [int(i) for i in x])\n",
        "\n",
        "mlb = MultiLabelBinarizer(classes = (\"goal_1\", \"goal_2\", \"goal_3\", \"goal_4\", \"goal_5\", \"goal_6\", \"goal_7\", \"goal_8\", \"goal_9\", \"goal_10\", \"goal_11\", \"goal_12\", \"goal_13\", \"goal_14\", \"goal_15\", \"goal_16\", \"goal_17\"))\n",
        "\n",
        "#create boolean mask matched non NaNs values\n",
        "mask = labelled['Tag'].notnull()\n"
      ],
      "execution_count": null,
      "outputs": []
    },
    {
      "cell_type": "code",
      "metadata": {
        "id": "p6P_s4xCPfAI"
      },
      "source": [
        "import nltk\n",
        "from nltk.stem.snowball import SnowballStemmer\n",
        "import re\n",
        "\n",
        "import sys\n",
        "import warnings\n",
        "\n",
        "if not sys.warnoptions:\n",
        "    warnings.simplefilter(\"ignore\")"
      ],
      "execution_count": null,
      "outputs": []
    },
    {
      "cell_type": "code",
      "metadata": {
        "id": "iLozpFBjPpmj"
      },
      "source": [
        "def cleanHtml(sentence):\n",
        "    cleanr = re.compile('<.*?>')\n",
        "    cleantext = re.sub(cleanr, ' ', str(sentence))\n",
        "    return cleantext\n",
        "\n",
        "\n",
        "def cleanPunc(sentence): #function to clean the word of any punctuation or special characters\n",
        "    cleaned = re.sub(r'[?|!|\\'|\"|#]',r'',sentence)\n",
        "    cleaned = re.sub(r'[.|,|)|(|\\|/]',r' ',cleaned)\n",
        "    cleaned = cleaned.strip()\n",
        "    cleaned = cleaned.replace(\"\\n\",\" \")\n",
        "    return cleaned\n",
        "\n",
        "\n",
        "def keepAlpha(sentence):\n",
        "    alpha_sent = \"\"\n",
        "    for word in sentence.split():\n",
        "        alpha_word = re.sub('[^a-z A-Z]+', ' ', word)\n",
        "        alpha_sent += alpha_word\n",
        "        alpha_sent += \" \"\n",
        "    alpha_sent = alpha_sent.strip()\n",
        "    return alpha_sent"
      ],
      "execution_count": null,
      "outputs": []
    },
    {
      "cell_type": "code",
      "metadata": {
        "id": "0EdzWNd5Pqra"
      },
      "source": [
        "labelled['description'] = labelled['description'].str.lower()\n",
        "labelled['description'] = labelled['description'].apply(cleanHtml)\n",
        "labelled['description'] = labelled['description'].apply(cleanPunc)\n",
        "labelled['description'] = labelled['description'].apply(keepAlpha)"
      ],
      "execution_count": null,
      "outputs": []
    },
    {
      "cell_type": "code",
      "metadata": {
        "id": "BEbxr6NpQ5iL",
        "colab": {
          "base_uri": "https://localhost:8080/",
          "height": 306
        },
        "outputId": "a26b3643-b126-429d-f789-cf2183b0b213"
      },
      "source": [
        "labelled.head()"
      ],
      "execution_count": null,
      "outputs": [
        {
          "output_type": "execute_result",
          "data": {
            "text/html": [
              "<div>\n",
              "<style scoped>\n",
              "    .dataframe tbody tr th:only-of-type {\n",
              "        vertical-align: middle;\n",
              "    }\n",
              "\n",
              "    .dataframe tbody tr th {\n",
              "        vertical-align: top;\n",
              "    }\n",
              "\n",
              "    .dataframe thead th {\n",
              "        text-align: right;\n",
              "    }\n",
              "</style>\n",
              "<table border=\"1\" class=\"dataframe\">\n",
              "  <thead>\n",
              "    <tr style=\"text-align: right;\">\n",
              "      <th></th>\n",
              "      <th>Unnamed: 0</th>\n",
              "      <th>description</th>\n",
              "      <th>goal_1</th>\n",
              "      <th>goal_2</th>\n",
              "      <th>goal_3</th>\n",
              "      <th>goal_4</th>\n",
              "      <th>goal_5</th>\n",
              "      <th>goal_6</th>\n",
              "      <th>goal_7</th>\n",
              "      <th>goal_8</th>\n",
              "      <th>goal_9</th>\n",
              "      <th>goal_10</th>\n",
              "      <th>goal_11</th>\n",
              "      <th>goal_12</th>\n",
              "      <th>goal_13</th>\n",
              "      <th>goal_14</th>\n",
              "      <th>goal_15</th>\n",
              "      <th>goal_16</th>\n",
              "      <th>goal_17</th>\n",
              "      <th>Tag</th>\n",
              "    </tr>\n",
              "  </thead>\n",
              "  <tbody>\n",
              "    <tr>\n",
              "      <th>0</th>\n",
              "      <td>0</td>\n",
              "      <td>description background  in order to achieve th...</td>\n",
              "      <td>1</td>\n",
              "      <td>1</td>\n",
              "      <td>1</td>\n",
              "      <td>1</td>\n",
              "      <td>1</td>\n",
              "      <td>1</td>\n",
              "      <td>1</td>\n",
              "      <td>1</td>\n",
              "      <td>1</td>\n",
              "      <td>1</td>\n",
              "      <td>1</td>\n",
              "      <td>1</td>\n",
              "      <td>1</td>\n",
              "      <td>1</td>\n",
              "      <td>1</td>\n",
              "      <td>1</td>\n",
              "      <td>1</td>\n",
              "      <td>goal_1,goal_2,goal_3,goal_4,goal_5,goal_6,goal...</td>\n",
              "    </tr>\n",
              "    <tr>\n",
              "      <th>1</th>\n",
              "      <td>1</td>\n",
              "      <td>description achievement of initiative desa wis...</td>\n",
              "      <td>0</td>\n",
              "      <td>0</td>\n",
              "      <td>0</td>\n",
              "      <td>0</td>\n",
              "      <td>0</td>\n",
              "      <td>0</td>\n",
              "      <td>0</td>\n",
              "      <td>1</td>\n",
              "      <td>0</td>\n",
              "      <td>0</td>\n",
              "      <td>0</td>\n",
              "      <td>0</td>\n",
              "      <td>0</td>\n",
              "      <td>0</td>\n",
              "      <td>1</td>\n",
              "      <td>0</td>\n",
              "      <td>0</td>\n",
              "      <td>goal_8,goal_15</td>\n",
              "    </tr>\n",
              "    <tr>\n",
              "      <th>2</th>\n",
              "      <td>2</td>\n",
              "      <td>description the overall objective of this proj...</td>\n",
              "      <td>0</td>\n",
              "      <td>0</td>\n",
              "      <td>0</td>\n",
              "      <td>0</td>\n",
              "      <td>0</td>\n",
              "      <td>0</td>\n",
              "      <td>0</td>\n",
              "      <td>0</td>\n",
              "      <td>0</td>\n",
              "      <td>0</td>\n",
              "      <td>0</td>\n",
              "      <td>0</td>\n",
              "      <td>1</td>\n",
              "      <td>1</td>\n",
              "      <td>0</td>\n",
              "      <td>0</td>\n",
              "      <td>0</td>\n",
              "      <td>goal_13,goal_14</td>\n",
              "    </tr>\n",
              "    <tr>\n",
              "      <th>3</th>\n",
              "      <td>3</td>\n",
              "      <td>description the global goals jam is a two day ...</td>\n",
              "      <td>0</td>\n",
              "      <td>0</td>\n",
              "      <td>1</td>\n",
              "      <td>1</td>\n",
              "      <td>0</td>\n",
              "      <td>0</td>\n",
              "      <td>0</td>\n",
              "      <td>0</td>\n",
              "      <td>0</td>\n",
              "      <td>1</td>\n",
              "      <td>1</td>\n",
              "      <td>0</td>\n",
              "      <td>1</td>\n",
              "      <td>1</td>\n",
              "      <td>1</td>\n",
              "      <td>0</td>\n",
              "      <td>1</td>\n",
              "      <td>goal_3,goal_4,goal_10,goal_11,goal_13,goal_14,...</td>\n",
              "    </tr>\n",
              "    <tr>\n",
              "      <th>4</th>\n",
              "      <td>4</td>\n",
              "      <td>description achievement of initiative newport ...</td>\n",
              "      <td>0</td>\n",
              "      <td>0</td>\n",
              "      <td>0</td>\n",
              "      <td>1</td>\n",
              "      <td>0</td>\n",
              "      <td>0</td>\n",
              "      <td>0</td>\n",
              "      <td>0</td>\n",
              "      <td>0</td>\n",
              "      <td>0</td>\n",
              "      <td>0</td>\n",
              "      <td>0</td>\n",
              "      <td>0</td>\n",
              "      <td>0</td>\n",
              "      <td>0</td>\n",
              "      <td>0</td>\n",
              "      <td>0</td>\n",
              "      <td>goal_4</td>\n",
              "    </tr>\n",
              "  </tbody>\n",
              "</table>\n",
              "</div>"
            ],
            "text/plain": [
              "   Unnamed: 0  ...                                                Tag\n",
              "0           0  ...  goal_1,goal_2,goal_3,goal_4,goal_5,goal_6,goal...\n",
              "1           1  ...                                     goal_8,goal_15\n",
              "2           2  ...                                    goal_13,goal_14\n",
              "3           3  ...  goal_3,goal_4,goal_10,goal_11,goal_13,goal_14,...\n",
              "4           4  ...                                             goal_4\n",
              "\n",
              "[5 rows x 20 columns]"
            ]
          },
          "metadata": {
            "tags": []
          },
          "execution_count": 7
        }
      ]
    },
    {
      "cell_type": "code",
      "metadata": {
        "id": "oFPj-RbaOvSQ"
      },
      "source": [
        "data_x = labelled.loc[mask, 'description'].dropna().reset_index(drop = True).values\n",
        "x = np.array([x for x in data_x.tolist()])\n",
        "y = mlb.fit_transform(labelled.loc[mask, 'Tag'].dropna().str.strip('[]').str.split(','))\n",
        "\n",
        "stop_words = set(stopwords.words('english'))\n",
        "labels = [str(i) for i in range(1,18)]"
      ],
      "execution_count": null,
      "outputs": []
    },
    {
      "cell_type": "code",
      "metadata": {
        "id": "Eh5DJkQhL7Ta",
        "colab": {
          "base_uri": "https://localhost:8080/",
          "height": 103
        },
        "outputId": "bc307ed9-8e41-413f-ca9f-dde3dae4fc30"
      },
      "source": [
        "data_x.tolist()[0]"
      ],
      "execution_count": null,
      "outputs": [
        {
          "output_type": "execute_result",
          "data": {
            "application/vnd.google.colaboratory.intrinsic+json": {
              "type": "string"
            },
            "text/plain": [
              "'description background  in order to achieve the sustainable development goals sdgs various efforts are underway in countries around the world sdg management is an indispensable perspective for local and regional governments lrgs and companies in japan on the other hand a mechanism of collecting evaluating and visualizing information and data as a basis of sdg management has yet to be established at the local and regional levels with japanese local context thus it is an urgent task for lrgs to set up such a system of monitoring and evaluation in order to show the results of planning and implementation so far to citizens companies and other stakeholders in order to accelerate further efforts towards the sdgs in their respective cities and regions against this backdrop uncrd has launched a project to develop a monitoring and evaluation tool package in collaboration with local governments and private companies that are already committed to the sdgs in particular in chubu japan objectives and activities  the project aims at developing the package of monitoring and evaluation tools that responds to the unique situation in each city and region in japan while making them internationally comparable one by combining the technologies and expertise owned by project partners by combining the information and statistical data originally owned by lrgs together with the data obtained through participatory data collection technologies the tool package would evaluate the current status of each lrg efforts and the progress so far in achieving the sdgs and also provide a basic guideline for collecting data and information expected impact outputs and expected impact  the results of monitoring and evaluation will not only be compiled in a report for reviewing on the annual basis but also be visualized online for example in a form of dashboard that can be viewed and referred by various stakeholders including the private sector academia and citizens also as project outputs case studies using these tools will be conducted in two selected municipalities of nagoya and toyota cities to demonstrate the usefulness of the tool package and then it would also be utilized to support other lrgs in japan and other countries in their efforts to achieve the sdgs the developed package would enable lrgs to evaluate and visualize the outputs and outcomes of their activities and projects towards the sdgs and provide feedback for improvement for future actions it is expected that more and more lrgs which are interested in monitoring and evaluation of local sdg actions and or voluntary local review vlr will use the tools to effectively promote their own initiatives and projects while learning peer to peer so that their actions towards sdgs would be further accelerated website https  www uncrd or jp index phppage view nr type menu'"
            ]
          },
          "metadata": {
            "tags": []
          },
          "execution_count": 9
        }
      ]
    },
    {
      "cell_type": "code",
      "metadata": {
        "id": "3lfIDtj_IHZM"
      },
      "source": [
        "splits = []\n",
        "for fold in os.listdir(CROSS_FOLDS):\n",
        "    train_index = np.load(f\"{CROSS_FOLDS}{fold}/train.npy\")\n",
        "    val_index = np.load(f\"{CROSS_FOLDS}{fold}/val.npy\")\n",
        "    splits.append((train_index, val_index))"
      ],
      "execution_count": null,
      "outputs": []
    },
    {
      "cell_type": "code",
      "metadata": {
        "id": "ZQFeSy9XOXmV",
        "colab": {
          "base_uri": "https://localhost:8080/"
        },
        "outputId": "46ca67bb-2cdd-4baa-d6e4-73c03e6354b5"
      },
      "source": [
        "print(train_index)"
      ],
      "execution_count": null,
      "outputs": [
        {
          "output_type": "stream",
          "text": [
            "[ 754  620 1108 ... 1931 1558 1924]\n"
          ],
          "name": "stdout"
        }
      ]
    },
    {
      "cell_type": "code",
      "metadata": {
        "id": "WP2UzK23IMcl"
      },
      "source": [
        "def grid_search(x, y, parameters, pipeline, splits):\n",
        "    '''Train pipeline, test and print results'''\n",
        "    gs = GridSearchCV(pipeline, \n",
        "                      parameters, \n",
        "                      cv=splits, \n",
        "                      n_jobs=5, \n",
        "                      verbose=10, \n",
        "                      return_train_score=True, \n",
        "                      scoring='f1_micro')\n",
        "    gs.fit(x, y)\n",
        "    print()\n",
        "    print(\"Best parameters set:\")\n",
        "    print(gs.best_estimator_.steps)\n",
        "    print()\n",
        "    results = gs.cv_results_\n",
        "    print(f\"Mean train scores: {results['mean_train_score']}\")\n",
        "    print(f\"Mean validation scores: {results['mean_test_score']}\")"
      ],
      "execution_count": null,
      "outputs": []
    },
    {
      "cell_type": "code",
      "metadata": {
        "id": "eA4KcvkoK8pI"
      },
      "source": [
        "pipeline = Pipeline([\n",
        "                ('tfidf', TfidfVectorizer(stop_words=stop_words)),\n",
        "                ('clf', OneVsRestClassifier(MultinomialNB(\n",
        "                    fit_prior=True, class_prior=None))),\n",
        "            ])\n",
        "parameters = {\n",
        "                'tfidf__max_df': (0.25, 0.5, 0.75),\n",
        "                'tfidf__ngram_range': [(1, 1), (1, 2), (1, 3)],\n",
        "                'clf__estimator__alpha': (1e-2, 1e-3)\n",
        "            }\n",
        "grid_search(x, y, parameters, pipeline, splits)"
      ],
      "execution_count": null,
      "outputs": []
    },
    {
      "cell_type": "code",
      "metadata": {
        "id": "K6Go2DJuL2Tp",
        "colab": {
          "base_uri": "https://localhost:8080/"
        },
        "outputId": "5c64cd8d-9d71-4b1e-ad0e-d4f237d58912"
      },
      "source": [
        "pipeline = Pipeline([\n",
        "    ('tfidf', TfidfVectorizer(stop_words=stop_words)),\n",
        "    ('clf', OneVsRestClassifier(LinearSVC())),\n",
        "])\n",
        "parameters = {\n",
        "    'tfidf__max_df': (0.25, 0.5, 0.75),\n",
        "    'tfidf__ngram_range': [(1, 1), (1, 2), (1, 3)],\n",
        "    \"clf__estimator__C\": [0.01, 0.1, 1],\n",
        "    \"clf__estimator__class_weight\": ['balanced', None],\n",
        "}\n",
        "grid_search(x, y, parameters, pipeline, splits)"
      ],
      "execution_count": null,
      "outputs": [
        {
          "output_type": "stream",
          "text": [
            "Fitting 5 folds for each of 54 candidates, totalling 270 fits\n"
          ],
          "name": "stdout"
        },
        {
          "output_type": "stream",
          "text": [
            "[Parallel(n_jobs=5)]: Using backend LokyBackend with 5 concurrent workers.\n",
            "[Parallel(n_jobs=5)]: Done   3 tasks      | elapsed:   14.0s\n",
            "[Parallel(n_jobs=5)]: Done   8 tasks      | elapsed:   44.4s\n",
            "[Parallel(n_jobs=5)]: Done  15 tasks      | elapsed:  1.7min\n",
            "[Parallel(n_jobs=5)]: Done  22 tasks      | elapsed:  2.3min\n",
            "[Parallel(n_jobs=5)]: Done  31 tasks      | elapsed:  3.4min\n",
            "[Parallel(n_jobs=5)]: Done  40 tasks      | elapsed:  4.0min\n",
            "[Parallel(n_jobs=5)]: Done  51 tasks      | elapsed:  5.5min\n",
            "[Parallel(n_jobs=5)]: Done  62 tasks      | elapsed:  6.7min\n",
            "[Parallel(n_jobs=5)]: Done  75 tasks      | elapsed:  8.1min\n",
            "[Parallel(n_jobs=5)]: Done  88 tasks      | elapsed:  9.7min\n",
            "[Parallel(n_jobs=5)]: Done 103 tasks      | elapsed: 11.5min\n",
            "[Parallel(n_jobs=5)]: Done 118 tasks      | elapsed: 13.2min\n",
            "[Parallel(n_jobs=5)]: Done 135 tasks      | elapsed: 15.0min\n",
            "[Parallel(n_jobs=5)]: Done 152 tasks      | elapsed: 16.8min\n",
            "[Parallel(n_jobs=5)]: Done 171 tasks      | elapsed: 18.8min\n",
            "/usr/local/lib/python3.6/dist-packages/joblib/externals/loky/process_executor.py:691: UserWarning: A worker stopped while some jobs were given to the executor. This can be caused by a too short worker timeout or by a memory leak.\n",
            "  \"timeout or by a memory leak.\", UserWarning\n",
            "[Parallel(n_jobs=5)]: Done 190 tasks      | elapsed: 21.4min\n",
            "[Parallel(n_jobs=5)]: Done 211 tasks      | elapsed: 27.4min\n",
            "[Parallel(n_jobs=5)]: Done 232 tasks      | elapsed: 32.0min\n",
            "[Parallel(n_jobs=5)]: Done 255 tasks      | elapsed: 36.5min\n",
            "[Parallel(n_jobs=5)]: Done 270 out of 270 | elapsed: 39.2min finished\n"
          ],
          "name": "stderr"
        },
        {
          "output_type": "stream",
          "text": [
            "\n",
            "Best parameters set:\n",
            "[('tfidf', TfidfVectorizer(analyzer='word', binary=False, decode_error='strict',\n",
            "                dtype=<class 'numpy.float64'>, encoding='utf-8',\n",
            "                input='content', lowercase=True, max_df=0.5, max_features=None,\n",
            "                min_df=1, ngram_range=(1, 3), norm='l2', preprocessor=None,\n",
            "                smooth_idf=True,\n",
            "                stop_words={'a', 'about', 'above', 'after', 'again', 'against',\n",
            "                            'ain', 'all', 'am', 'an', 'and', 'any', 'are',\n",
            "                            'aren', \"aren't\", 'as', 'at', 'be', 'because',\n",
            "                            'been', 'before', 'being', 'below', 'between',\n",
            "                            'both', 'but', 'by', 'can', 'couldn', \"couldn't\", ...},\n",
            "                strip_accents=None, sublinear_tf=False,\n",
            "                token_pattern='(?u)\\\\b\\\\w\\\\w+\\\\b', tokenizer=None, use_idf=True,\n",
            "                vocabulary=None)), ('clf', OneVsRestClassifier(estimator=LinearSVC(C=0.1, class_weight='balanced',\n",
            "                                        dual=True, fit_intercept=True,\n",
            "                                        intercept_scaling=1,\n",
            "                                        loss='squared_hinge', max_iter=1000,\n",
            "                                        multi_class='ovr', penalty='l2',\n",
            "                                        random_state=None, tol=0.0001,\n",
            "                                        verbose=0),\n",
            "                    n_jobs=None))]\n",
            "\n",
            "Mean train scores: [0.76916127 0.88763654 0.92495143 0.73869612 0.85462809 0.90332036\n",
            " 0.73227062 0.84378708 0.89530968 0.00717118 0.00330272 0.00283285\n",
            " 0.01350864 0.00310184 0.00236367 0.01463715 0.00310184 0.00236367\n",
            " 0.87934871 0.93832214 0.95195354 0.85780535 0.92517693 0.94488493\n",
            " 0.85386329 0.92220905 0.94329299 0.42297362 0.34401468 0.29456205\n",
            " 0.44261979 0.35820439 0.30579399 0.44687457 0.36097753 0.30745121\n",
            " 0.95662028 0.95921779 0.96264347 0.95583845 0.95920141 0.96265832\n",
            " 0.95574339 0.95917027 0.96265832 0.96709768 0.97006082 0.9730807\n",
            " 0.96708936 0.97006082 0.9730977  0.96710967 0.97006082 0.9730807 ]\n",
            "Mean validation scores: [0.51000485 0.51080026 0.51232105 0.5251533  0.53024302 0.52933598\n",
            " 0.52640964 0.52834914 0.52501802 0.00448515 0.00107967 0.00107967\n",
            " 0.00882432 0.00107967 0.00107967 0.01054597 0.00107967 0.00107967\n",
            " 0.51474198 0.51240398 0.51302204 0.52931059 0.53411758 0.53450094\n",
            " 0.53129457 0.53258661 0.53182353 0.26124364 0.1859775  0.15387884\n",
            " 0.28310969 0.21226408 0.19152185 0.28680218 0.21288983 0.19248973\n",
            " 0.48096027 0.48496941 0.48498228 0.4940669  0.50395953 0.50654197\n",
            " 0.49779996 0.50419426 0.50779727 0.4404393  0.41830285 0.41725391\n",
            " 0.45467166 0.45341884 0.45420652 0.46034655 0.45403741 0.45520136]\n"
          ],
          "name": "stdout"
        }
      ]
    },
    {
      "cell_type": "code",
      "metadata": {
        "id": "Tz8SET04_jcK",
        "colab": {
          "base_uri": "https://localhost:8080/"
        },
        "outputId": "34f982ec-ca4b-439f-8193-a0f09997d91b"
      },
      "source": [
        "data_x"
      ],
      "execution_count": null,
      "outputs": [
        {
          "output_type": "execute_result",
          "data": {
            "text/plain": [
              "array(['description background  in order to achieve the sustainable development goals sdgs various efforts are underway in countries around the world sdg management is an indispensable perspective for local and regional governments lrgs and companies in japan on the other hand a mechanism of collecting evaluating and visualizing information and data as a basis of sdg management has yet to be established at the local and regional levels with japanese local context thus it is an urgent task for lrgs to set up such a system of monitoring and evaluation in order to show the results of planning and implementation so far to citizens companies and other stakeholders in order to accelerate further efforts towards the sdgs in their respective cities and regions against this backdrop uncrd has launched a project to develop a monitoring and evaluation tool package in collaboration with local governments and private companies that are already committed to the sdgs in particular in chubu japan objectives and activities  the project aims at developing the package of monitoring and evaluation tools that responds to the unique situation in each city and region in japan while making them internationally comparable one by combining the technologies and expertise owned by project partners by combining the information and statistical data originally owned by lrgs together with the data obtained through participatory data collection technologies the tool package would evaluate the current status of each lrg efforts and the progress so far in achieving the sdgs and also provide a basic guideline for collecting data and information expected impact outputs and expected impact  the results of monitoring and evaluation will not only be compiled in a report for reviewing on the annual basis but also be visualized online for example in a form of dashboard that can be viewed and referred by various stakeholders including the private sector academia and citizens also as project outputs case studies using these tools will be conducted in two selected municipalities of nagoya and toyota cities to demonstrate the usefulness of the tool package and then it would also be utilized to support other lrgs in japan and other countries in their efforts to achieve the sdgs the developed package would enable lrgs to evaluate and visualize the outputs and outcomes of their activities and projects towards the sdgs and provide feedback for improvement for future actions it is expected that more and more lrgs which are interested in monitoring and evaluation of local sdg actions and or voluntary local review vlr will use the tools to effectively promote their own initiatives and projects while learning peer to peer so that their actions towards sdgs would be further accelerated website https  www uncrd or jp index phppage view nr type menu',\n",
              "       'description achievement of initiative desa wisata lestari igirmranak has its own tagline margining tawang sejatining manah which can be interpreted as a journey to the sky that will make an impression on the heart an attainment of success as high as the sky which must be pursued with all my heart implementation methodologies based on the regional spatial plan for igirmranak village related to the development of a tourist village namely the division of   tourist zones namely the kawiwitan zone sekeco zone kahuripan zone and kamulyan zone each zone has its own meaning and designation the kawiwitan zone means that the kawiwitan zone is a zone that is interpreted to welcome the arrival of tourists covering an area of   m  the next zone is the sekeco zone as an area for concentrating tourism management both permaculture and culture along with parking and lodging facilities for tourists the planning applied to this zone is in the form of a parking lot with a capacity of   cars and   motorbikes a lobby a restaurant a tourist management office and a guest house the third zone is the kahuripan zone which is interpreted as a pilot area for the application of an organic life cycle therefore it is called a kahuripan whose simple definition is life it is planned as an area to implement parks shops and waste management based on the permaculture concept the area is divided into two parts namely the north side as a compost management area and the south side as an organic garden this zone is the focal point of a sustainable tourism village therefore the process of developing this area is continuously carried out by the igirmranak village government one of which is through the tmmd program and community empowerment social service together with   wonosobos district military command the last zone is the kamulyan zone which is interpreted as a victory zone which represents climbing activities to the summit of mount prau rotodowo seeing this potential in   the igirmranak village government is working with the district military command through the tni manunggal membangun desa phase   year   to carry out a program to build a waste treatment plant that is used as a center for cattle waste management which can produce   tons of compost per week which is managed by giri lestari independent waste processing group this development activity is included in the indonesian army forces service operations carried out by   wonosobo s district military command in order to realize indoesian army forces people unity and to assist the task of the wonosobo regency regional government in dealing with social problems through physical and non physical development to help accelerate development in the area by prioritizing community welfare arrangements for capacity building and technology transfer coordination mechanisms governance structure the coordination mechanism implemented by the igirmranak village government is bottom up coordination partner s igirmranak village government and   wonosobos district military command',\n",
              "       'description the overall objective of this project is to promote an ecological transition transforming the challenge of climate change into an opportunity for mobilization and convergence of efforts for sustainable economic and social development at the service of african citizens  r n r n r nmore specifically the project consists of building with african citizens taking into account the specificities of different countries common positions and recommendations for action on the following dimensions r n  effective climate justice r no for africa vis vis the rest of the world given the glaring disproportion between limited historical responsibility and excessive vulnerability r no within africa with regard to issues of social and territorial inequalities as well as gender inequalities r n  inclusive green growth r no the transition to a sustainable economic and social model with and for the benefit of the african citizen taking into account intangible capital and identifying new opportunities r no citizen climate action for the benefit of the emergence of a common african narrative r n  an african green movement r no the mobilization of african experts citizens civil society governments and pan african institutions to make the climate transition a success for the benefit of african citizens  r no the creation of a space for discussion and multi stakeholder consultation  r n r nthe proposed working method is organized as follows r n  component   inventory and diagnosis r nthe purpose of this component is to present a general inventory of the progress made in the implementation of the ndcs and the constraints in terms of planning and financing  r n  component   construction of the recommended solutions r nthe purpose of this component is to identify solutions to the problems caused by climate change  r nthis will involve identifying the priorities for action by states civil society and pan african organizations to strengthen common african climate action priorities can be given to the governance process as a key function in the implementation of an inclusive citizen centered strategy and the strengthening of the necessary cooperation mechanism this will serve in particular to feed into the ucesa roadmap this action will be carried out in particular with the support of the ipcc the eca and the adb  r nthe purpose of this work will be to develop an advocacy document that could take the form of a citizen manifesto highlighting a common african vision for inclusive climate action this deliverable will be based on the priorities and solutions identified and articulated with the main african initiatives  r n r n  component   presentation and adoption r nthe third component consists of presenting the draft recommendations of the final deliverable to the ucsa authorities  r nthe working group will make a presentation to the bureau in order to collect the observations and its validation subsequently the project will be presented to the general assembly for adoption  r nthe validated deliverable will be the key advocacy instrument of ucesa and through it african organized civil society for the implementation through active cooperation of measures likely to change the paradigm of climate action by placing the citizen back at his center  r n r n  component   advocacy and sensitization r nthis last phase would make it possible to bring the action to life beyond the moroccan presidency of the ucesaa african civil society but not only could use this manifesto to sensitize the various actors on climate action beyond the framework of the ucesa expected impact   effective climate justice r n r n  inclusive green growth r n r n  an african green movement website www ucesa africa',\n",
              "       ...,\n",
              "       'description achievement of initiative the colombian campaign to ban landmines is carrying out several mine action activities that will provide safety and security to rural communities in colombia the objective is to eliminate the threat of landmines and explosive remnants of war so communities can return to their land safely increase agricultural productivity and prevent more victims of landmines implementation methodologies community liaison non technical studies land clearance victims assistance gender equality via workshops mine risk education arrangements for capacity building and technology transfer trainings are held in mid january for all members of the organization new partnerships are being launched with tech companies non profits and un agencies to adopt best practices data sharing and technology transfer coordination mechanisms governance structure this initiative is overseen by the colombian government and the organization of american states the activities are carried out by the ngo colombian campiagn to ban landmines as well as other humanitarian demining organizations we are financed by the the us department of state germany norway sweeden and the un partner s colombian campaign to ban landmines',\n",
              "       'description the sustainable development goals for haiti sdg for haiti is a student led project initiative that aims to implement the united nations sdgs   in our community by providing creative solutions to local problems under sdg  our unique position as students in a city where   of the population has no access to health pushed us to act our objectives by   is to reduce the number of people who do not have access to care through a program to strengthen the quality of care in haiti through various projects so we decided to tackle this problem by planning and executing different projects such as    the establishment of community pharmacy in hospitals prison and educational establishment completely free with medicines hygiene products and first aid kits   training sessions on self medication which is a public health problem in haiti   awareness campaign on the importance of medical insurance and also on vaccination   an advocacy project with the government on increasing the national health budget the organization and planning of these projects was entirely managed and directed by students who thus demonstrated their ability to achieve and collaborate effectively with organizations to achieve the objectives we will use this effective networking and collaboration capacity to advance our goals as a student group we are well aware that our own resources are not enough to solve the problems ourselves which has encouraged us to build coalitions with non profit organizations and ngos existing in our community not only by strengthening our common network but also our communication and organizational capacities in addition to partnering with local not for profit organizations we also plan to work in local government by networking with our mp state mp and school board representatives to further engage our city in the un sdgs ultimately we hope to be part of the decade of change and work alongside other countries to achieve these goals we aim to leave a lasting impact on our community and for the common well being of the future of the haitian people and our global community as a whole expected impact expected impact   establishment of   community pharmacy in the city of port au prince at the general hospital female prison of cabaret penitentier center and the lyc e de cite soleil   online and face to face training for more than fifty marketing agents on the relationship between antibiotics and bacterial resistance and also on self medication to fight against the sale of antibiotics in the streets and against self medication   awareness of   of the haitian population on the importance of having an insurance card and also a complete vaccination card   according to a new report released by the world bank today the health sector needs more public investment and better spending allocation to improve access to care for all haitians   increase public resources for health   prioritize primary and preventive health care   increase equitable access to quality care website',\n",
              "       'description summary  to strengthen the rule of law and ensure equal access to justice for all the ministry of justice of the islamic republic of afghanistan moj will collaborate with the international legal foundation ilf to develop a comprehensive legal aid system that is accessible effective sustainable and credible across afghanistan this effort will accelerate progress towards realizing sustainable development goal   it will advance implementation of afghanistan s   legal aid regulation by establishing a legal aid high commission and secretariat to ensure provision of effective quality criminal defense services for poor and vulnerable people and by building the capacity of the ministry of justice legal aid department the acceleration action will take place over a time period of three years from   to   with beneficiaries across afghanistan objectives    support the effective establishment of afghanistan s new legal aid system   build the capacity of the moj legal aid department to provide quality legal aid services   expand the provision of legal aid in provinces throughout afghanistan partner commitments  the moj is the government agency responsible for the administration of justice in afghanistan the moj s vision is implementation of the rule of law and equal access to justice for all the ministry plays a substantial role in provision of legal aid services to poor and vulnerable persons in afghanistan and it will commit leadership human resources facilities and administrative support to facilitate the development of a comprehensive legal aid system that is accessible effective sustainable and credible for more information visit https  moj gov af en the ilf is a nonprofit organization that provides quality criminal defense services and builds sustainable effective legal aid institutions around the world a leading global advocate for the right to counsel the ilf has over   years of experience delivering legal aid in afghanistan and provides technical assistance worldwide it will provide technical assistance and secure funding to advance this project for more information visit www theilf org implementation methodologies  implementation will include  curriculum resource development  policy advice and development  needs assessments  training workshops  feedback and evaluation  recruitment and staffing specific activities    support the effective establishment of afghanistan s new legal aid system a bolster the legal aid high commission and secretariat b hold a national consultation on reforms to afghanistan s legal aid system c draft a new national legal aid strategy   build the capacity of the moj legal aid department to provide quality legal aid a establish a training unit b establish a monitoring and evaluation unit c build the capacity of legal aid department lawyers   expand the provision of legal aid in provinces throughout afghanistan a establish a formal case referral mechanism between the moj and ilf b embed ilf afghanistan lawyers in moj legal aid offices around the country follow up mechanisms and governance    base line surveys and an annual review of moj legal aid department staff will be used to measure the training unit s impact and progress   the legal aid department monitoring and evaluation unit will track the quality of legal aid provided expected impact this effort will yield a comprehensive legal aid system that is accessible effective sustainable and credible   strengthening institutions and closing the justice gap for poor communities across afghanistan collaboration between the ministry of justice of the islamic republic of afghanistan moj and the international legal foundation ilf will accelerate progress towards realizing sustainable development goal   this collaboration will advance implementation of afghanistan s   legal aid regulation through technical and financial support for the legal aid high commission and secretariat as well as building the capacity of the ministry of justice legal aid department in order to ensure provision of effective quality criminal defense services for poor and vulnerable people together the moj and ilf will develop a legal aid system that is tailored to the needs of each locality and ensure the provision of quality legal aid services nationwide this effort will expand access to legal aid for indigent or vulnerable people who are detained arrested suspected of or charged with a criminal offence across afghanistan website https  moj gov af en www theilf org'],\n",
              "      dtype=object)"
            ]
          },
          "metadata": {
            "tags": []
          },
          "execution_count": 32
        }
      ]
    },
    {
      "cell_type": "code",
      "metadata": {
        "id": "suFP4mzVK_5m",
        "colab": {
          "base_uri": "https://localhost:8080/"
        },
        "outputId": "d31398f5-36a9-4b81-bcc1-fe9096559a4b"
      },
      "source": [
        "pipeline = Pipeline([\n",
        "    ('tfidf', TfidfVectorizer(stop_words=stop_words)),\n",
        "    ('clf', OneVsRestClassifier(LogisticRegression(solver='sag'))),\n",
        "])\n",
        "parameters = {\n",
        "    'tfidf__max_df': (0.25, 0.5, 0.75),\n",
        "    'tfidf__ngram_range': [(1, 1), (1, 2), (1, 3)],\n",
        "    \"clf__estimator__C\": [0.01, 0.1, 1],\n",
        "    \"clf__estimator__class_weight\": ['balanced', None],\n",
        "    \"clf__estimator__multi_class\": ['ovr', 'multinomial']\n",
        "}\n",
        "\n",
        "grid_search(x, y, parameters, pipeline, splits)"
      ],
      "execution_count": null,
      "outputs": [
        {
          "output_type": "stream",
          "text": [
            "Fitting 5 folds for each of 108 candidates, totalling 540 fits\n"
          ],
          "name": "stdout"
        },
        {
          "output_type": "stream",
          "text": [
            "[Parallel(n_jobs=5)]: Using backend LokyBackend with 5 concurrent workers.\n",
            "[Parallel(n_jobs=5)]: Done   3 tasks      | elapsed:   20.1s\n",
            "[Parallel(n_jobs=5)]: Done   8 tasks      | elapsed:  2.2min\n",
            "[Parallel(n_jobs=5)]: Done  15 tasks      | elapsed:  5.8min\n",
            "[Parallel(n_jobs=5)]: Done  22 tasks      | elapsed:  7.8min\n",
            "[Parallel(n_jobs=5)]: Done  31 tasks      | elapsed: 11.5min\n",
            "[Parallel(n_jobs=5)]: Done  40 tasks      | elapsed: 13.4min\n",
            "[Parallel(n_jobs=5)]: Done  51 tasks      | elapsed: 19.2min\n",
            "/usr/local/lib/python3.6/dist-packages/joblib/externals/loky/process_executor.py:691: UserWarning: A worker stopped while some jobs were given to the executor. This can be caused by a too short worker timeout or by a memory leak.\n",
            "  \"timeout or by a memory leak.\", UserWarning\n",
            "[Parallel(n_jobs=5)]: Done  62 tasks      | elapsed: 24.1min\n",
            "[Parallel(n_jobs=5)]: Done  75 tasks      | elapsed: 31.1min\n",
            "[Parallel(n_jobs=5)]: Done  88 tasks      | elapsed: 38.2min\n",
            "[Parallel(n_jobs=5)]: Done 103 tasks      | elapsed: 43.7min\n",
            "[Parallel(n_jobs=5)]: Done 118 tasks      | elapsed: 49.2min\n",
            "[Parallel(n_jobs=5)]: Done 135 tasks      | elapsed: 54.9min\n",
            "[Parallel(n_jobs=5)]: Done 152 tasks      | elapsed: 62.1min\n",
            "[Parallel(n_jobs=5)]: Done 171 tasks      | elapsed: 71.3min\n",
            "[Parallel(n_jobs=5)]: Done 190 tasks      | elapsed: 77.1min\n",
            "[Parallel(n_jobs=5)]: Done 211 tasks      | elapsed: 82.3min\n",
            "[Parallel(n_jobs=5)]: Done 232 tasks      | elapsed: 86.7min\n",
            "[Parallel(n_jobs=5)]: Done 255 tasks      | elapsed: 93.7min\n",
            "[Parallel(n_jobs=5)]: Done 278 tasks      | elapsed: 98.7min\n",
            "[Parallel(n_jobs=5)]: Done 303 tasks      | elapsed: 103.9min\n",
            "[Parallel(n_jobs=5)]: Done 328 tasks      | elapsed: 110.8min\n",
            "[Parallel(n_jobs=5)]: Done 355 tasks      | elapsed: 116.5min\n",
            "[Parallel(n_jobs=5)]: Done 382 tasks      | elapsed: 124.3min\n",
            "[Parallel(n_jobs=5)]: Done 411 tasks      | elapsed: 133.8min\n",
            "[Parallel(n_jobs=5)]: Done 440 tasks      | elapsed: 147.1min\n",
            "[Parallel(n_jobs=5)]: Done 471 tasks      | elapsed: 159.2min\n",
            "[Parallel(n_jobs=5)]: Done 502 tasks      | elapsed: 167.0min\n",
            "[Parallel(n_jobs=5)]: Done 540 out of 540 | elapsed: 181.8min finished\n"
          ],
          "name": "stderr"
        },
        {
          "output_type": "stream",
          "text": [
            "\n",
            "Best parameters set:\n",
            "[('tfidf', TfidfVectorizer(analyzer='word', binary=False, decode_error='strict',\n",
            "                dtype=<class 'numpy.float64'>, encoding='utf-8',\n",
            "                input='content', lowercase=True, max_df=0.5, max_features=None,\n",
            "                min_df=1, ngram_range=(1, 3), norm='l2', preprocessor=None,\n",
            "                smooth_idf=True,\n",
            "                stop_words={'a', 'about', 'above', 'after', 'again', 'against',\n",
            "                            'ain', 'all', 'am', 'an', 'and', 'any', 'are',\n",
            "                            'aren', \"aren't\", 'as', 'at', 'be', 'because',\n",
            "                            'been', 'before', 'being', 'below', 'between',\n",
            "                            'both', 'but', 'by', 'can', 'couldn', \"couldn't\", ...},\n",
            "                strip_accents=None, sublinear_tf=False,\n",
            "                token_pattern='(?u)\\\\b\\\\w\\\\w+\\\\b', tokenizer=None, use_idf=True,\n",
            "                vocabulary=None)), ('clf', OneVsRestClassifier(estimator=LogisticRegression(C=1, class_weight='balanced',\n",
            "                                                 dual=False, fit_intercept=True,\n",
            "                                                 intercept_scaling=1,\n",
            "                                                 l1_ratio=None, max_iter=100,\n",
            "                                                 multi_class='ovr', n_jobs=None,\n",
            "                                                 penalty='l2',\n",
            "                                                 random_state=None,\n",
            "                                                 solver='sag', tol=0.0001,\n",
            "                                                 verbose=0, warm_start=False),\n",
            "                    n_jobs=None))]\n",
            "\n",
            "Mean train scores: [0.73913426 0.86616963 0.91084545 0.71007015 0.83083373 0.88675496\n",
            " 0.70446949 0.81741677 0.87489551 0.7446044  0.87090227 0.91448873\n",
            " 0.71517586 0.83494243 0.88998273 0.70913865 0.82299678 0.87973917\n",
            " 0.         0.         0.         0.         0.         0.\n",
            " 0.         0.         0.         0.         0.         0.\n",
            " 0.         0.         0.         0.         0.         0.\n",
            " 0.77536325 0.89207065 0.92773797 0.74451346 0.86000708 0.90791022\n",
            " 0.73805473 0.84833512 0.90012211 0.80100705 0.90562502 0.9361388\n",
            " 0.77144462 0.87749514 0.9191237  0.76519136 0.86803566 0.91294462\n",
            " 0.01063155 0.0053053  0.00510656 0.02395145 0.00477111 0.00450421\n",
            " 0.0243443  0.00490498 0.00450421 0.0710757  0.01472053 0.01019723\n",
            " 0.09304428 0.03195149 0.01578243 0.09560445 0.03441627 0.01737259\n",
            " 0.88665861 0.94156395 0.95373038 0.86643462 0.93027126 0.94766123\n",
            " 0.86294979 0.92724144 0.94652001 0.92085936 0.95205342 0.9587135\n",
            " 0.90697329 0.9461452  0.95662409 0.90485618 0.94517528 0.95622294\n",
            " 0.45336709 0.3826943  0.33803567 0.47246231 0.39722474 0.35169697\n",
            " 0.47426022 0.4012388  0.35447761 0.68663426 0.68598437 0.67526906\n",
            " 0.69653621 0.70544038 0.69416996 0.69824421 0.70885164 0.699359  ]\n",
            "Mean validation scores: [0.50351749 0.50301951 0.50103356 0.51804761 0.5234969  0.52452689\n",
            " 0.52035892 0.51744016 0.51629417 0.50404894 0.50582213 0.5037922\n",
            " 0.51820486 0.52493402 0.5257688  0.52241625 0.52034686 0.51660874\n",
            " 0.         0.         0.         0.         0.         0.\n",
            " 0.         0.         0.         0.         0.         0.\n",
            " 0.         0.         0.         0.         0.         0.\n",
            " 0.50879564 0.51311976 0.51155986 0.52432774 0.5302083  0.5282266\n",
            " 0.5274456  0.52739488 0.52640822 0.51268692 0.51570257 0.51323799\n",
            " 0.53007424 0.5322569  0.53360557 0.53038466 0.53150413 0.52865386\n",
            " 0.00842833 0.00340906 0.00340978 0.01950086 0.00346417 0.00287072\n",
            " 0.02163272 0.00346417 0.00287072 0.04647925 0.0126453  0.00656641\n",
            " 0.07376021 0.03155732 0.01985068 0.07378367 0.03352789 0.0246678\n",
            " 0.51347363 0.51112983 0.51239253 0.52884488 0.53462868 0.53492981\n",
            " 0.5303568  0.53199915 0.53171054 0.50680652 0.50919609 0.50737446\n",
            " 0.51976287 0.53075961 0.5317782  0.52642854 0.52960363 0.52748368\n",
            " 0.2753598  0.20183983 0.17504182 0.30096681 0.2348595  0.21357905\n",
            " 0.30314916 0.23550425 0.21167952 0.34946067 0.29623352 0.27506349\n",
            " 0.36657221 0.33295117 0.32458024 0.37193832 0.3371478  0.32428844]\n"
          ],
          "name": "stdout"
        }
      ]
    },
    {
      "cell_type": "code",
      "metadata": {
        "id": "fhGBi9Zok4O9"
      },
      "source": [
        "xp = 'Rangita de Silva, Associate Dean of the University of Pennsylvania, focused on SDG 5, and particularly target 5.1., which aims at ending all forms gender discrimination. She argued for dismantling de jure gender discrimination in the Law. She recalled that every single country has at least 4 laws that discriminate, directly or indirectly, against women and remembered that gender discrimination, has a very high cost, 28 trillion dollars per year, according to McKinsey. For example, she reminded that when Ethiopia eliminated the requisite of men to authorize their wives to look for employment, women’s participation in the job market increased substantially and GDP grew by 17%. This is particularly relevant as achieving SDGs has been estimated may need an investment of trillions of dollars per year.'"
      ],
      "execution_count": null,
      "outputs": []
    },
    {
      "cell_type": "code",
      "metadata": {
        "id": "Mo_yZof6FZrc"
      },
      "source": [
        "tfidf = gs.best_estimator_.named_steps['tfidf']\n",
        "clf = gs.best_estimator_.named_steps['clf']"
      ],
      "execution_count": null,
      "outputs": []
    },
    {
      "cell_type": "code",
      "metadata": {
        "id": "6nxY-did_c41",
        "colab": {
          "base_uri": "https://localhost:8080/"
        },
        "outputId": "6c0ad692-8845-43f1-d148-2de0f8f564ed"
      },
      "source": [
        "xp = xp.lower()\n",
        "xp = cleanHtml(xp)\n",
        "xp = cleanPunc(xp)\n",
        "xp = keepAlpha(xp)\n",
        "xt = tfidf.transform([xp])\n",
        "clf.predict(xt)"
      ],
      "execution_count": null,
      "outputs": [
        {
          "output_type": "execute_result",
          "data": {
            "text/plain": [
              "array([[0, 0, 0, 0, 1, 0, 0, 0, 0, 0, 0, 0, 0, 0, 0, 0, 1]])"
            ]
          },
          "metadata": {
            "tags": []
          },
          "execution_count": 73
        }
      ]
    },
    {
      "cell_type": "code",
      "metadata": {
        "id": "w59ObtueAbhv",
        "colab": {
          "base_uri": "https://localhost:8080/"
        },
        "outputId": "9c280d01-f17a-41cf-fc44-0ed6e5699f68"
      },
      "source": [
        "pipeline = Pipeline([\n",
        "    ('tfidf', TfidfVectorizer(stop_words=stop_words)),\n",
        "    ('clf', DecisionTreeClassifier()),\n",
        "])\n",
        "parameters = {\n",
        "    'tfidf__max_df': (0.25, 0.5, 0.75),\n",
        "    'tfidf__ngram_range': [(1, 1), (1, 2), (1, 3)]\n",
        "}\n",
        "grid_search(x, y, parameters, pipeline, splits)"
      ],
      "execution_count": null,
      "outputs": [
        {
          "output_type": "stream",
          "text": [
            "Fitting 5 folds for each of 9 candidates, totalling 45 fits\n"
          ],
          "name": "stdout"
        },
        {
          "output_type": "stream",
          "text": [
            "[Parallel(n_jobs=5)]: Using backend LokyBackend with 5 concurrent workers.\n",
            "[Parallel(n_jobs=5)]: Done   3 tasks      | elapsed:   26.9s\n",
            "[Parallel(n_jobs=5)]: Done   8 tasks      | elapsed:  2.6min\n",
            "[Parallel(n_jobs=5)]: Done  15 tasks      | elapsed:  7.6min\n",
            "[Parallel(n_jobs=5)]: Done  22 tasks      | elapsed:  9.8min\n",
            "[Parallel(n_jobs=5)]: Done  31 tasks      | elapsed: 14.6min\n",
            "[Parallel(n_jobs=5)]: Done  41 out of  45 | elapsed: 21.1min remaining:  2.1min\n",
            "[Parallel(n_jobs=5)]: Done  45 out of  45 | elapsed: 21.3min finished\n"
          ],
          "name": "stderr"
        },
        {
          "output_type": "stream",
          "text": [
            "\n",
            "Best parameters set:\n",
            "[('tfidf', TfidfVectorizer(analyzer='word', binary=False, decode_error='strict',\n",
            "                dtype=<class 'numpy.float64'>, encoding='utf-8',\n",
            "                input='content', lowercase=True, max_df=0.75, max_features=None,\n",
            "                min_df=1, ngram_range=(1, 3), norm='l2', preprocessor=None,\n",
            "                smooth_idf=True,\n",
            "                stop_words={'a', 'about', 'above', 'after', 'again', 'against',\n",
            "                            'ain', 'all', 'am', 'an', 'and', 'any', 'are',\n",
            "                            'aren', \"aren't\", 'as', 'at', 'be', 'because',\n",
            "                            'been', 'before', 'being', 'below', 'between',\n",
            "                            'both', 'but', 'by', 'can', 'couldn', \"couldn't\", ...},\n",
            "                strip_accents=None, sublinear_tf=False,\n",
            "                token_pattern='(?u)\\\\b\\\\w\\\\w+\\\\b', tokenizer=None, use_idf=True,\n",
            "                vocabulary=None)), ('clf', DecisionTreeClassifier(ccp_alpha=0.0, class_weight=None, criterion='gini',\n",
            "                       max_depth=None, max_features=None, max_leaf_nodes=None,\n",
            "                       min_impurity_decrease=0.0, min_impurity_split=None,\n",
            "                       min_samples_leaf=1, min_samples_split=2,\n",
            "                       min_weight_fraction_leaf=0.0, presort='deprecated',\n",
            "                       random_state=None, splitter='best'))]\n",
            "\n",
            "Mean train scores: [0.97436874 0.97436874 0.97436874 0.97436874 0.97436874 0.97436874\n",
            " 0.97436874 0.97436874 0.97436874]\n",
            "Mean validation scores: [0.36274651 0.3652502  0.35919678 0.35988668 0.39891175 0.39685959\n",
            " 0.36425667 0.37293606 0.40132151]\n"
          ],
          "name": "stdout"
        }
      ]
    },
    {
      "cell_type": "code",
      "metadata": {
        "id": "cesaGKqTDcTp"
      },
      "source": [
        ""
      ],
      "execution_count": null,
      "outputs": []
    }
  ]
}